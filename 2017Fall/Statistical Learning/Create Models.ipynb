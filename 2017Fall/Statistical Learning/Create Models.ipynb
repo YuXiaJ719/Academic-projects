{
 "cells": [
  {
   "cell_type": "code",
   "execution_count": 1,
   "metadata": {},
   "outputs": [],
   "source": [
    "import os\n",
    "import sys\n",
    "import numpy as np\n",
    "import pandas as pd\n",
    "from functools import partial\n",
    "from multiprocessing import Pool\n",
    "from DataProcessor import createData\n",
    "from sklearn.model_selection import train_test_split\n",
    "from sklearn.linear_model import LogisticRegression\n",
    "from sklearn.ensemble import RandomForestClassifier\n",
    "from sklearn.metrics import roc_auc_score\n",
    "import matplotlib.pyplot as plt"
   ]
  },
  {
   "cell_type": "code",
   "execution_count": 2,
   "metadata": {},
   "outputs": [],
   "source": [
    "path = \"./stocks data/Data/\"\n",
    "stock_data_filenames = os.listdir(path)"
   ]
  },
  {
   "cell_type": "code",
   "execution_count": 3,
   "metadata": {},
   "outputs": [],
   "source": [
    "def cal_acurracy(stockname, method = \"Logistic\"):\n",
    "    area = accuracy = 0\n",
    "    path = \"./stocks data/Data/\" + stockname\n",
    "    \n",
    "    try:\n",
    "        df = pd.read_csv(path)\n",
    "        data = createData(df, label_return_period=20, annualized_return=0.1).values\n",
    "        X = data[:, :-1]\n",
    "        Y = data[:, -1]\n",
    "        x_train, x_test, y_train, y_test = train_test_split(X, Y, test_size=0.3, random_state=18)\n",
    "\n",
    "        if method == \"Logistic\":\n",
    "            lr = LogisticRegression()\n",
    "            lr.fit(x_train, y_train)\n",
    "            accuracy = lr.score(x_test, y_test)\n",
    "            probs = lr.predict_proba(x_test)\n",
    "            area = roc_auc_score(y_test, [tup[1] for tup in probs])\n",
    "            \n",
    "        if method == \"RandomForest\":\n",
    "            rf = RandomForestClassifier()\n",
    "            rf.fit(x_train, y_train)\n",
    "            accuracy = rf.score(x_test, y_test)\n",
    "            probs = rf.predict_proba(x_test)\n",
    "            area = roc_auc_score(y_test, [tup[1] for tup in probs])\n",
    "            \n",
    "    except:\n",
    "        print(\"Error occurs.\")\n",
    "        \n",
    "    return accuracy, area\n",
    "\n",
    "def run(file_names, method=\"Logistic\"):\n",
    "    \n",
    "    pf = partial(cal_acurracy, method=method)\n",
    "    p = Pool(processes=10)\n",
    "    accs = p.map(pf, file_names)\n",
    "    p.close()\n",
    "    \n",
    "    print(\"Average accuracy: \" + str(np.mean([tup[0] for tup in accs])))\n",
    "    print(\"Average auc: \" + str(np.mean([tup[1] for tup in accs])))"
   ]
  },
  {
   "cell_type": "markdown",
   "metadata": {},
   "source": [
    "## Logistic regression"
   ]
  },
  {
   "cell_type": "code",
   "execution_count": 4,
   "metadata": {
    "scrolled": true
   },
   "outputs": [
    {
     "name": "stdout",
     "output_type": "stream",
     "text": [
      "Error occurs.\n",
      "Average accuracy: 0.659014854969\n",
      "Average auc: 0.677799423232\n"
     ]
    }
   ],
   "source": [
    "run(stock_data_filenames, \"Logistic\")"
   ]
  },
  {
   "cell_type": "markdown",
   "metadata": {},
   "source": [
    "## RandomForest"
   ]
  },
  {
   "cell_type": "code",
   "execution_count": 5,
   "metadata": {},
   "outputs": [
    {
     "name": "stdout",
     "output_type": "stream",
     "text": [
      "Error occurs.\n",
      "Average accuracy: 0.867435525304\n",
      "Average auc: 0.937926759741\n"
     ]
    }
   ],
   "source": [
    "run(stock_data_filenames, \"RandomForest\")"
   ]
  },
  {
   "cell_type": "markdown",
   "metadata": {},
   "source": [
    "## XGBoost"
   ]
  },
  {
   "cell_type": "code",
   "execution_count": null,
   "metadata": {},
   "outputs": [],
   "source": []
  }
 ],
 "metadata": {
  "kernelspec": {
   "display_name": "Python 3",
   "language": "python",
   "name": "python3"
  },
  "language_info": {
   "codemirror_mode": {
    "name": "ipython",
    "version": 3
   },
   "file_extension": ".py",
   "mimetype": "text/x-python",
   "name": "python",
   "nbconvert_exporter": "python",
   "pygments_lexer": "ipython3",
   "version": "3.6.1"
  }
 },
 "nbformat": 4,
 "nbformat_minor": 2
}
