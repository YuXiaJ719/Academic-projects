{
 "cells": [
  {
   "cell_type": "code",
   "execution_count": 35,
   "metadata": {},
   "outputs": [],
   "source": [
    "import pandas_datareader as pdr\n",
    "import matplotlib.pyplot as plt\n",
    "import os\n",
    "from DataProcessor import createData, createBackTestData\n",
    "import xgboost as xgb\n",
    "import pickle\n",
    "import datetime"
   ]
  },
  {
   "cell_type": "code",
   "execution_count": 38,
   "metadata": {},
   "outputs": [],
   "source": [
    "def update_estimator(data, stock_code, today):\n",
    "    \n",
    "    df_model = createData(data)\n",
    "    features = df_model.values[:, :-1]\n",
    "    label = df_model.values[:, -1]\n",
    "    \n",
    "    xgbc = xgb.XGBClassifier(max_depth=6, n_estimators=300, learning_rate=0.15)\n",
    "    xgbc.fit(features, label)\n",
    "    \n",
    "    with open(\"./estimators/estimator_{}_{}.pickle\".format(stock_code, today), \"wb\") as f:\n",
    "        pickle.dump(xgbc, f)\n",
    "        \n",
    "def signal(data, stock_code, today):\n",
    "\n",
    "    with open(\"./estimators/estimator_{}_{}.pickle\".format(stock_code, today), \"rb\") as f:\n",
    "        xgbc = pickle.load(f)\n",
    "    \n",
    "    df_pred = createBackTestData(data)\n",
    "    prediction = xgbc.predict(df_pred.iloc[-1].values.reshape(1, -1))\n",
    "    \n",
    "    with open(\"./Tracking files/tracking_{}.txt\".format(stock_code), \"a\") as f:\n",
    "        f.write(str(today) + \": \" + str(prediction[0]) + \"\\n\")\n",
    "        \n",
    "def run(stock_code):\n",
    "    \n",
    "    today = datetime.datetime.now().date()\n",
    "    size = datetime.timedelta(days=4000)\n",
    "    start = today - size\n",
    "    \n",
    "    for i in range(10):\n",
    "        try:\n",
    "            data = pdr.DataReader(stock_code, \"yahoo\", start, today)\n",
    "            break;\n",
    "        except Exception as e:\n",
    "            print(e)\n",
    "            \n",
    "    update_estimator(data, stock_code, today)\n",
    "    signal(data, stock_code, today)"
   ]
  },
  {
   "cell_type": "code",
   "execution_count": 39,
   "metadata": {},
   "outputs": [],
   "source": [
    "run(\"AAPL\")"
   ]
  }
 ],
 "metadata": {
  "kernelspec": {
   "display_name": "Python 3",
   "language": "python",
   "name": "python3"
  },
  "language_info": {
   "codemirror_mode": {
    "name": "ipython",
    "version": 3
   },
   "file_extension": ".py",
   "mimetype": "text/x-python",
   "name": "python",
   "nbconvert_exporter": "python",
   "pygments_lexer": "ipython3",
   "version": "3.6.1"
  }
 },
 "nbformat": 4,
 "nbformat_minor": 2
}
